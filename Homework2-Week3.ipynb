{
 "cells": [
  {
   "cell_type": "code",
   "execution_count": 3,
   "metadata": {},
   "outputs": [],
   "source": [
    "import numpy as np\n",
    "import scipy.constants as cn"
   ]
  },
  {
   "cell_type": "markdown",
   "metadata": {},
   "source": [
    "# 1. How radioactive are humans?\n",
    "\n",
    "### 1.a. Assume an average human mass of 70kg. What is the activity (Bq) of that person?\n",
    "  * Hints:\n",
    "    * What elements(isotopes) in our body produce radiation that actually escapes our body?\n",
    "    * How much of our body is made up of those elements?\n",
    "      * Don’t forget to consider the natural abundance of the unstable isotopes\n",
    "    * How much activity will that lead to?\n",
    "      * Don’t forget about branching ratios\n",
    "\n",
    "### 1.b. How radioactive are you?\n",
    "  * Hint: make use of specific activity\n",
    "  * You don’t have to use your actual mass\n",
    "\n",
    "### 1.c. Provide references\n",
    "  * Where did you get the relevant numers that went in to your calculations?\n",
    "  * Include your references in Markdown"
   ]
  },
  {
   "cell_type": "markdown",
   "metadata": {},
   "source": [
    "As far as I know there are two major contributors to radioactivity in humans. The primary is Carbon-14, and the secondary is Potassium-40. According to the wikipedia page https://en.wikipedia.org/wiki/Composition_of_the_human_body#Elemental_composition_list we can take the mass fraction. Carbon is 18% of an average person by mass, while potassium is 0.2% of an average person by mass. Both of these primarily produce beta radiation, however K40 can also undergo electron capture. The branching ratio for K40 is .8928$\\beta^-$, 0.1072$\\epsilon$ according to NuDat3. The primary source of radiation from this will be beta rays, however many will be shielded so a large number of x-rays from bremsstrahlung and gamma rays from the electron capture are likely. "
   ]
  },
  {
   "cell_type": "code",
   "execution_count": 8,
   "metadata": {},
   "outputs": [
    {
     "name": "stdout",
     "output_type": "stream",
     "text": [
      "The total activity of an average person is 6428.75Bq. I believe branching ratios would not effect the overall activity, just type of radiation and therefore dose.\n",
      "If we want only activity that can escape the body, the activity would be 465.27Bq\n"
     ]
    }
   ],
   "source": [
    "CMP = 0.18\n",
    "KMP = 0.002\n",
    "C14ab = 1e-12 #again from wikipedia https://en.wikipedia.org/wiki/Carbon-14\n",
    "K40ab = 1.17e-4 #from NuDat3 \n",
    "CHL = 5700 * 365.25 * 24 * 60 * 60 #seconds, from NuDat3\n",
    "KHL = 1.248e9 * 365.25 * 24 * 60 * 60 #seconds, from NuDat3\n",
    "Clam = np.log(2)/CHL\n",
    "Klam = np.log(2)/KHL\n",
    "MC14 = 70e3 * CMP * C14ab #g\n",
    "MK40 = 70e3 * KMP * K40ab #g\n",
    "Catoms = MC14 * (1/14) * cn.N_A\n",
    "Katoms = MK40 * (1/40) * cn.N_A\n",
    "CA = Catoms * Clam \n",
    "KA = Katoms * Klam \n",
    "Activity = CA + KA\n",
    "print(f'The total activity of an average person is {Activity:.2f}Bq. I believe branching ratios would not effect the overall activity, just type of radiation and therefore dose.')\n",
    "print(f'If we want only activity that can escape the body, the activity would be {KA * 0.1072:.2f}Bq')"
   ]
  },
  {
   "cell_type": "markdown",
   "metadata": {},
   "source": [
    "As my weight is nearly exactly 70kg, I'll instead calculate for my friends with weights 90.7kg and 127kg. (I did get their consent for this)"
   ]
  },
  {
   "cell_type": "code",
   "execution_count": 16,
   "metadata": {},
   "outputs": [
    {
     "name": "stdout",
     "output_type": "stream",
     "text": [
      "My friend Fox has an activity of 602.86Bq\n",
      "My friend Khaleb has an activity of 844.14Bq\n"
     ]
    },
    {
     "data": {
      "text/plain": [
       "0.062003139032809136"
      ]
     },
     "execution_count": 16,
     "metadata": {},
     "output_type": "execute_result"
    }
   ],
   "source": [
    "SpecA = (KA * .1072) / (70e3) #Bq/g\n",
    "FoxM = 90.7e3 #g\n",
    "KaleM = 127e3 #g\n",
    "FoxA = FoxM * SpecA\n",
    "KaleA = KaleM * SpecA\n",
    "print(f'My friend Fox has an activity of {FoxA:.2f}Bq')\n",
    "print(f'My friend Khaleb has an activity of {KaleA:.2f}Bq')"
   ]
  },
  {
   "cell_type": "markdown",
   "metadata": {},
   "source": [
    "Other references used: \n",
    "\n",
    "https://en.wikipedia.org/wiki/Carbon-14\n",
    "\n",
    "https://www.nndc.bnl.gov/nudat3/"
   ]
  },
  {
   "cell_type": "markdown",
   "metadata": {},
   "source": [
    "# 2. Determining the activity from a 120g (medium size) banana.\n",
    "* Neglect the impact of the banana peel in your answers - assume a uniform composition and assume you will injest the entire banana.\n",
    "* Composition of bananas **(masses listed are for a 100g banana)**:\n",
    "  * Potassium (K) - 358 mg\n",
    "  * Sugar (C<sub>12</sub>H<sub>22</sub>O<sub>11</sub>) - 12.23 g\n",
    "  * Vitamin B6 (C<sub>8</sub>H<sub>11</sub>NO<sub>3</sub>) - 0.4 mg\n",
    "  * Vitamin C (C<sub>6</sub>H<sub>8</sub>O<sub>6</sub>) - 8.7 mg\n",
    "* Check [nutrition information](https://en.wikipedia.org/wiki/Banana#Nutrition)\n",
    "\n",
    "**NOTE:** To determine the fraction of a given molecule that is carbon based on the molecular composition:\n",
    "$$ \\frac{m_{C}}{m} = \\frac{M_{C}N_{C}}{M_{C}N_{C} + M_{H}N_{H} + M_{O}N_{O} + ...}$$\n",
    "\n",
    "where $M_{element}$ is the atomic mass of the element and $N_{element}$ is the number of atoms of that element in the molecule.\n",
    "\n",
    "### 2.a. Which of the above components of the banana composition will contribute significantly to your answer and why?\n",
    "### 2.b. What is the total activity of the banana?\n",
    "### 2.c. What is the activity just from gamma radiation?\n",
    "### 2.d. Assuming no self-shielding of electrons (all electrons produced escape the banana), what is the activity just from electrons?\n",
    "### 2.e. When you purchase the banana, what portion of the activity is the main source of exposure?\n",
    "### 2.f. When you eat the banana, what portion of the activity is the main source of exposure?"
   ]
  },
  {
   "cell_type": "markdown",
   "metadata": {},
   "source": [
    "Of the components, only C-14 and K-40 have significant enough half life to have meaningful natural abundance. Tritium will likely contribute less than 1 Bq, while unstable isotopes of oxygen and nitrogen will effectively not contribute as they decay within seconds. "
   ]
  },
  {
   "cell_type": "code",
   "execution_count": 17,
   "metadata": {},
   "outputs": [
    {
     "name": "stdout",
     "output_type": "stream",
     "text": [
      "2.b, the total activity of the banana is 12.12Bq\n"
     ]
    }
   ],
   "source": [
    "MPS = (12 * 12)/(12 * 12 + 1 * 22 + 16 * 11)\n",
    "MPB6 = (8 * 12)/(8 * 12 + 1 * 11 + 14 + 3 * 16)\n",
    "MPC = (6 * 12)/(6 * 12 + 1 * 8 + 6 * 16)\n",
    "MC = MPS * 1.2 * 12.23 + MPB6 * 1.2 * 0.4e-3 + MPC * 1.2 * 8.7e-3\n",
    "NC14 = MC * C14ab * (1/14) * cn.N_A\n",
    "NK40 = 358e-3 * K40ab * (1/40) * cn.N_A\n",
    "CHL = 5700 * 365.25 * 24 * 60 * 60 #seconds, from NuDat3\n",
    "KHL = 1.248e9 * 365.25 * 24 * 60 * 60 #seconds, from NuDat3\n",
    "Clam = np.log(2)/CHL\n",
    "Klam = np.log(2)/KHL\n",
    "Bananactivity = NC14 * Clam + NK40 * Klam\n",
    "print(f'2.b, the total activity of the banana is {Bananactivity:.2f}Bq')"
   ]
  },
  {
   "cell_type": "code",
   "execution_count": 20,
   "metadata": {},
   "outputs": [
    {
     "name": "stdout",
     "output_type": "stream",
     "text": [
      "2.c As only the electron capture will produce a gamma ray, the gamma ray activity is 1.190Bq\n"
     ]
    }
   ],
   "source": [
    "Gammanana = NK40 * Klam * 0.1072\n",
    "print(f'2.c As only the electron capture will produce a gamma ray, the gamma ray activity is {Gammanana:.3f}Bq')"
   ]
  },
  {
   "cell_type": "code",
   "execution_count": 21,
   "metadata": {},
   "outputs": [
    {
     "name": "stdout",
     "output_type": "stream",
     "text": [
      "2.d All other activity will produce electrons, the beta ray activity is 10.93\n"
     ]
    }
   ],
   "source": [
    "Electronana = Bananactivity - Gammanana\n",
    "print(f'2.d All other activity will produce electrons, the beta ray activity is {Electronana:.2f}')"
   ]
  },
  {
   "cell_type": "markdown",
   "metadata": {},
   "source": [
    "When initially purchased, the banana is outside of the body. Nearly all of the beta rays will be shielded by the banana and the air, so the primary source of exposure is from gamma rays.\n",
    "\n",
    "After eating, the surface area of the banana is massively increased, and it's constantly in contact with the body, so beta rays become the dominant form of exposure."
   ]
  }
 ],
 "metadata": {
  "kernelspec": {
   "display_name": "Python 3 (ipykernel)",
   "language": "python",
   "name": "python3"
  },
  "language_info": {
   "codemirror_mode": {
    "name": "ipython",
    "version": 3
   },
   "file_extension": ".py",
   "mimetype": "text/x-python",
   "name": "python",
   "nbconvert_exporter": "python",
   "pygments_lexer": "ipython3",
   "version": "3.9.15"
  }
 },
 "nbformat": 4,
 "nbformat_minor": 4
}
